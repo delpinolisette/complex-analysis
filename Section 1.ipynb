{
 "cells": [
  {
   "cell_type": "markdown",
   "metadata": {},
   "source": [
    "# Chapter 1\n",
    "- 1.1 Field of Complex Numbers\n",
    "- 1.2 The Complex Plane\n",
    "- 1.3 The Solution of the Cubic Equation\n",
    "- 1.4 Topological Aspects of the Complex Plane\n",
    "- 1.5 Stereographic Projection and the Point at Infinity\n",
    "- Lecture 1 Notes\n",
    "- Lecture 2 Notes\n",
    "- Exercises"
   ]
  },
  {
   "cell_type": "markdown",
   "metadata": {},
   "source": [
    "## 1.1 The Field $\\mathbb{C}$\n",
    "\n",
    "### Complex Numbers Definition:\n",
    "$\\mathbb{C}$ is the set of ordered pairs (a,b) with $a,b \\in \\mathbb{R}$ , with operations:\n",
    "1. $(a,b) + (c,d) = (a+c, b+d)$\n",
    "2. $(a,b)(c,d) = (ac-bd, ad + bc)$\n",
    "3. Associative and commutative addition + multiplication (TODO: get specidic def)\n",
    "4. Additive identity (0,0)\n",
    "5. Additive Inverse (-a,-b)\n",
    "6. Multiplicative identity (1,0)\n",
    "    - In fact, to find the multiplicative inverse of any $(a,b) != (0,0)$, set:\n",
    "         $$(a,b)(x,y) = (1,0)$$\n",
    "         or \n",
    "         $$ax - by = 1 \\\\ bx + ay = 0$$\\\n",
    "         and $$x = \\frac{a}{a^2 + b^2}\\\\ y = \\frac{-b}{a^2+b^2}$$\n",
    "\n",
    "\n",
    "Form an isomorphism with $\\mathbb{R}$ by\n",
    "\n",
    "- $a \\in \\mathbb{R} := (a,0) \\in \\mathbb{C}$\n",
    "- operations that follow from the correspondece:\n",
    "    - $(a,0)+(b,0)=(a+b,0)$\n",
    "    - $(a,0)(b,0) = (ab,0)$\n",
    "- Thus, $\\mathbb{C}$ is isomorphic ($\\cong$) to $\\mathbb{R}$, we can say:\n",
    "    - $(0,1)(0,1) = -1$\n",
    "    - $a(b,c) = (a,0)(b,c) = (ab,ac)$\n",
    "    - $(a,b) = (a,0)(b,0) = a+bi$\n",
    " \n",
    "### Square Roots of NonZero Complex Numbers:\n",
    " \n",
    " - always two square roots. Why? Because:\n",
    "     - Solve by: $$ (x+iy)^2 = a+bi$$ which is $$ x^2-y^2 = a,\\\\ 2xy = b$$ which is $$4x^4-4ax^2 - b^2 = 0 \\\\ y = \\frac{b}{2x}$$\n",
    "    - Solve for $x^2$, get: $$x=\\pm \\sqrt{\\frac{a + \\sqrt{a^2 + b^2}}{2}}$$\n",
    "    - \n",
    "\n",
    "\n",
    "\n"
   ]
  },
  {
   "cell_type": "markdown",
   "metadata": {},
   "source": [
    "## 1.2 The Complex Plane"
   ]
  },
  {
   "cell_type": "markdown",
   "metadata": {},
   "source": [
    "## 1.3 Solution to the Cubic Equation"
   ]
  },
  {
   "cell_type": "markdown",
   "metadata": {},
   "source": [
    "## 1.4 Topological Aspects of the Complex Plane (Sep 3 2020)\n",
    "use the absolute value to define the limit of a complex series. \n",
    "### Convergence Definition:\n",
    "The sequence $z_1,...,z_n \\rightarrow z$ IF the sequence of reals |$z_n - z$|$\\rightarrow 0$ \n",
    "### Geometric Convergence Defintion:\n",
    "Sequence $z_n \\rightarrow z$ IF each _disc about z_ contains _all but finitely_ many members of sequence {$z_n$} \n",
    "### Real and Imaginary Convergence Definition:\n",
    "Notice $$\\sqrt{x^2}= x, \\sqrt{y^2}= y \\leq \\sqrt{x^2 + y^2} \\leq x + y$$so\n",
    "|Re $z$|, |Im $z$| $\\leq z \\leq$ |Re $z$| $+$ |Im $z$| gives :\n",
    " \n",
    " seqeuence $z_n \\rightarrow z$ IFF (Re $z \\rightarrow$ Re $z$ AND Im $z \\rightarrow$ Im $z$)\n",
    "\n",
    "### Examples (TODO):\n",
    "1. $z_n \\rightarrow 0$ if $|z| < 1$. Why?\n",
    "2. $\\frac{n}{n+i} \\rightarrow 1$. Why?\n",
    "\n",
    "### Complex Cauchy Sequence Definition:\n",
    "### Cauchy Sequence Convergence Proposition and Proof: \n",
    "\n",
    "### Examples (TODO):\n",
    "\n",
    "### Fundamental Definitions of sets on $\\mathbb{C}$:\n",
    "1. open disc / neighborhood\n",
    "2. Circle\n",
    "3. Open set\n",
    "4. Set Complement\n",
    "5. Closed Set\n",
    "6. Boundary\n",
    "7. Closure\n",
    "8. Bounded Set \n",
    "9. Compact Sets\n",
    "10. Disconnected / Connected Sets\n",
    "11. Line Segment \n",
    "12. Polygonal Line\n",
    "13. Polygonally Connected\n",
    "14. Polygonally connected set is connected. Converse is false. \n",
    "\n",
    "### Region Definition\n",
    "### Region Polygonally Connected Proposition and Proof \n",
    "###\n",
    "\n"
   ]
  },
  {
   "cell_type": "markdown",
   "metadata": {},
   "source": [
    "## 1.5 Stereographic Projection, The Point at Infinity\n"
   ]
  },
  {
   "cell_type": "markdown",
   "metadata": {},
   "source": [
    "## Lecture 1 Notes:\n",
    "- cover about a chapter a week. \n",
    "- exam 1 on Ch1-5(or 4)\n",
    "\n",
    "#### Historical Background + \"why i\"?\n",
    "1. need it for cubic formula (n=3 equivalent to quadratic formula). We are assured 3 real roots, but need to compute with imaginary numbers to get them. \n",
    "2. Differential equations make a connection between e, i, and trigonometric functions. Euelers ID. \n",
    "3. Gauss: when is an integer the sum of two perfect squares? (need i for solution)\n",
    "\n",
    "#### Complex Number Definition: \n",
    "1. as a set, $\\mathbb{C}$ is the same as $\\mathbb{R^2}$\n",
    "2. +/-/x/div operations\n",
    "2. derivation of multiplication law\n",
    "3. derivation of existence of multiplicative inverse\n",
    "4. Exercise: Check multiplication is associative\n",
    "5. Solving quadratic equations with complex coefficients\n",
    "6. Use above to find $\\sqrt{i}$\n",
    "7. For cubics, use Cardano's Formula. \n",
    "8. Do Polynomials of higher degrees with complex coefficients have formulas for root finding?\n",
    "9. Complex Planes, Geometric Interpretations of Complex Numbers. \n",
    "10. Sketching Subsets of $\\mathbb{C}$\n",
    "11. Geometric interpretations of arithmetic operations (ex: what is $z_1 z_2$) length and arg. \n",
    "12. Exercise: Check $|z_1z_2| = |z_1||z_2|$\n",
    "13. DeMoivre's Formula:\n",
    "14. Roots of Unity\n",
    "15. Alternative way to finding roots of unity. \n",
    "16. Generic Methods for finding roots of unity. \n",
    "#### [pdf notes by me](/assets/pdf/lis-lec-01)\n",
    "#### [pdf notes by proff](/assets/pdf/prof-lec-02)"
   ]
  },
  {
   "cell_type": "markdown",
   "metadata": {},
   "source": [
    "## Lecture 2 Notes:\n"
   ]
  },
  {
   "cell_type": "markdown",
   "metadata": {},
   "source": [
    "### Exercises with solutions (from book that are similar to homework): \n",
    "#### TODO: just write these out and link them on github - not worth typesetting. \n",
    "-note: algebra heavy problems will be written by hand and linked to, but more complex problems will be typed up.\n",
    "1. Express in the form $a + bi$\n",
    "    - (a) $\\frac{1}{6+21}$\n",
    "        - Solution:\n",
    "        - Multiply by the complex conjugate \n",
    "        - $\\frac{1}{6+2i} x \\frac{6-2i}{6-2i}$\n",
    "        - \n",
    "    - (b) \n",
    "    - (c)\n",
    "    - (d)\n"
   ]
  },
  {
   "cell_type": "markdown",
   "metadata": {},
   "source": [
    "### Homework 1 Work and Playground:"
   ]
  },
  {
   "cell_type": "code",
   "execution_count": 1,
   "metadata": {
    "ExecuteTime": {
     "end_time": "2020-09-01T21:46:07.026414Z",
     "start_time": "2020-09-01T21:46:07.017771Z"
    }
   },
   "outputs": [
    {
     "name": "stdout",
     "output_type": "stream",
     "text": [
      "(1+3j)\n"
     ]
    }
   ],
   "source": [
    "# exercise 1: py uses j as complex. \n",
    "x = 2 + 3j\n",
    "type(x)\n",
    "# we can multiply too:\n",
    "# ex 1\n",
    "x = 1 + 1j\n",
    "y = 2 + 1j\n",
    "print(x*y)"
   ]
  },
  {
   "cell_type": "code",
   "execution_count": 1,
   "metadata": {
    "ExecuteTime": {
     "end_time": "2020-09-02T18:18:10.386617Z",
     "start_time": "2020-09-02T18:18:09.881752Z"
    }
   },
   "outputs": [
    {
     "name": "stdout",
     "output_type": "stream",
     "text": [
      "(0.8999999999999999+0.3j)\n"
     ]
    },
    {
     "data": {
      "image/png": "[encoded data removed]",
      "text/plain": [
       "<Figure size 432x288 with 1 Axes>"
      ]
     },
     "metadata": {
      "needs_background": "light"
     },
     "output_type": "display_data"
    }
   ],
   "source": [
    "# plotting complex numbers\n",
    "# rectangular coordinates:\n",
    "import matplotlib.pyplot as plt\n",
    "import cmath as cn\n",
    "#comp = 4 + 5j\n",
    "plt.ylabel(\"imaginary\")\n",
    "plt.xlabel(\"real\")\n",
    "#x = [comp.real]\n",
    "#y = [comp.imag]\n",
    "#plt.plot([1, 2, 3, 4])\n",
    "#plt.show()\n",
    "#plt.plot([1, 2, 3, 4], [1, 4, 9, 16], 'ro')\n",
    "#plt.axis([0, 6, 0, 20])\n",
    "top = 3j\n",
    "bottom = (1+1j)*(2+1j)\n",
    "c = top/bottom\n",
    "print(c) # answer to exercise 1. \n",
    "plt.scatter(9/10,3/10)\n",
    "# now plot complex num\n",
    "plt.scatter(c.real, c.imag)\n",
    "plt.show()"
   ]
  },
  {
   "cell_type": "code",
   "execution_count": 8,
   "metadata": {
    "ExecuteTime": {
     "end_time": "2020-09-02T18:22:00.328837Z",
     "start_time": "2020-09-02T18:22:00.199853Z"
    }
   },
   "outputs": [
    {
     "data": {
      "text/plain": [
       "<matplotlib.collections.PathCollection at 0x2943be8b520>"
      ]
     },
     "execution_count": 8,
     "metadata": {},
     "output_type": "execute_result"
    },
    {
     "data": {
      "image/png": "[encoded data removed]",
      "text/plain": [
       "<Figure size 432x288 with 1 Axes>"
      ]
     },
     "metadata": {
      "needs_background": "light"
     },
     "output_type": "display_data"
    }
   ],
   "source": [
    "# another example - an array of complex numbers. \n",
    "import numpy as n\n",
    "from matplotlib.pyplot import *\n",
    "a = n.arange(5) + 1j*n.arange(6,11)\n",
    "a\n",
    "fig,ax = subplots()\n",
    "ax.scatter(a.real,a.imag)"
   ]
  },
  {
   "cell_type": "markdown",
   "metadata": {},
   "source": [
    "#### Resources:\n",
    "1. [good python commands](https://www.tutorialspoint.com/python-program-for-complex-numbers)\n",
    "2. [matplotlib pyplot docs](https://matplotlib.org/tutorials/introductory/pyplot.html)\n",
    "3. [StackOVerflow on arrays](https://stackoverflow.com/questions/17445720/how-to-plot-complex-numbers-argand-diagram-using-matplotlib)"
   ]
  },
  {
   "cell_type": "code",
   "execution_count": null,
   "metadata": {},
   "outputs": [],
   "source": []
  }
 ],
 "metadata": {
  "kernelspec": {
   "display_name": "Python 3",
   "language": "python",
   "name": "python3"
  },
  "language_info": {
   "codemirror_mode": {
    "name": "ipython",
    "version": 3
   },
   "file_extension": ".py",
   "mimetype": "text/x-python",
   "name": "python",
   "nbconvert_exporter": "python",
   "pygments_lexer": "ipython3",
   "version": "3.8.3"
  }
 },
 "nbformat": 4,
 "nbformat_minor": 4
}
