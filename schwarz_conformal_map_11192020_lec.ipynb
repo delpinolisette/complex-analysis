{
 "metadata": {
  "language_info": {
   "codemirror_mode": {
    "name": "ipython",
    "version": 3
   },
   "file_extension": ".py",
   "mimetype": "text/x-python",
   "name": "python",
   "nbconvert_exporter": "python",
   "pygments_lexer": "ipython3",
   "version": 3
  },
  "orig_nbformat": 2
 },
 "nbformat": 4,
 "nbformat_minor": 2,
 "cells": [
  {
   "source": [
    "### Schwarz Lemma \n",
    "\n",
    "### Another Application of Schwarz Lemma:\n",
    "\n",
    "- We can use SL to estimate values of $f(z)$\n",
    "    * ex: $f(z)$ from unit disk to unit disk analytic and $f(\\frac{1}{z}) = 0$, we can give an upper bound of |$f(\\frac{3}{4})$|. Because we know if f analytic and $f(\\frac{1}{z}) = 0$, then |$f(z)| \\leq |B_{1/2}(x)| = $\n",
    "\n",
    "\n",
    "### Possible Question:\n",
    "How did people come up with the fomula for $$B_{\\alpha}(z) = \\frac{z-\\alpha}{1-\\alpha z}$$"
   ],
   "cell_type": "markdown",
   "metadata": {}
  }
 ]
}