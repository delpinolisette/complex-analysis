{
 "metadata": {
  "language_info": {
   "codemirror_mode": {
    "name": "ipython",
    "version": 3
   },
   "file_extension": ".py",
   "mimetype": "text/x-python",
   "name": "python",
   "nbconvert_exporter": "python",
   "pygments_lexer": "ipython3",
   "version": 3
  },
  "orig_nbformat": 2
 },
 "nbformat": 4,
 "nbformat_minor": 2,
 "cells": [
  {
   "source": [
    "### Schwarz Lemma \n",
    "\n",
    "### Another Application of Schwarz Lemma:\n",
    "\n",
    "- We can use SL to estimate values of $f(z)$\n",
    "    * ex: $f(z)$ from unit disk to unit disk analytic and $f(\\frac{1}{z}) = 0$, we can give an upper bound of |$f(\\frac{3}{4})$|. Because we know if f analytic and $f(\\frac{1}{z}) = 0$, then |$f(z)| \\leq |B_{1/2}(x)| = $\n",
    "\n",
    "\n",
    "### Possible Question:\n",
    "How did people come up with the fomula for $$B_{\\alpha}(z) = \\frac{z-\\alpha}{1-\\alpha z}$$"
   ],
   "cell_type": "markdown",
   "metadata": {}
  },
  {
   "source": [
    "### Conformal Mappings \n",
    "\n",
    "Motivating question: 'Given two open sets $U$ and $V$ in $\\mathbb{C}$, does there exist a holomorphic bijection (a function both holomorphic and bijective) between them?'\n",
    "\n",
    "If we have an answer to this question, we can transfer what we know about analytic functions from one (boring?) open set with little geometric structure to one with more structure. If we can find the conditions to map an open set to the unit disk, where most of the theorems of complex analysis have been developed, we're in business. \n",
    "\n",
    "### Definition: Conformal Map or Biholomorphism\n",
    "preserves angle between two "
   ],
   "cell_type": "markdown",
   "metadata": {}
  },
  {
   "source": [
    "# References\n",
    "\n",
    "1. MATH 410 Lectures UPenn\n",
    "2. Schaum's Outline of Complex Variables\n",
    "3. Stein and Shakarchi Complex Analysis\n",
    "4. Joseph Bak Complex Analysis"
   ],
   "cell_type": "markdown",
   "metadata": {}
  }
 ]
}